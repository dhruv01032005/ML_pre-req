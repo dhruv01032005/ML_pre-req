{
  "cells": [
    {
      "cell_type": "markdown",
      "source": [
        "# Name - Dhruv Goel\n",
        "\n",
        "# Roll No - 23110098"
      ],
      "metadata": {
        "id": "Gcsaj_qmI0AE"
      }
    },
    {
      "cell_type": "markdown",
      "source": [
        "## Prerequisite Test"
      ],
      "metadata": {
        "id": "OOsdfMNQIz2d"
      }
    },
    {
      "cell_type": "markdown",
      "metadata": {
        "id": "5sg-LGJxIt8A"
      },
      "source": [
        "### QUE 1 How many multiplications and additions do you need to perform a matrix multiplication between a (n, k) and (k, m) matrix? Explain."
      ]
    },
    {
      "cell_type": "markdown",
      "metadata": {
        "id": "c1Q_4eFKIt8D"
      },
      "source": [
        "In matrix multiplication multiplication happens n * k * m times and addition happens n * (k-1) * m times.\n",
        "\n",
        "As in the matrix multiplication for finding the ans[i][j] (where 1<=i<=n and 1<=j<=m) we do multiplication k times and addition (k-1).\n",
        "\n",
        "Thus we can say that in matrix multiplication multiplication happens n * k * m times and addition happens n * (k-1) * m times."
      ]
    },
    {
      "cell_type": "markdown",
      "metadata": {
        "id": "7y9EDb6gIt8E"
      },
      "source": [
        "### QUE 2 Write Python code to multiply the above two matrices. Solve using list of lists and then use numpy. Compare the timing of both solutions. Which one is faster? Why?"
      ]
    },
    {
      "cell_type": "code",
      "source": [
        "import numpy as np\n",
        "\n",
        "np.random.seed(42)"
      ],
      "metadata": {
        "id": "B_nuPRWFPc0b"
      },
      "execution_count": 65,
      "outputs": []
    },
    {
      "cell_type": "code",
      "source": [
        "import time\n",
        "import numpy as np\n",
        "\n",
        "def matrix_multiplication(matrix1, matrix2):\n",
        "    c1 = len(matrix1[0])\n",
        "    r2 = len(matrix2)\n",
        "    if (c1 != r2):\n",
        "        return \"INVALID INPUT\"\n",
        "    n = len(matrix1)\n",
        "    k = len(matrix1[0])\n",
        "    m = len(matrix2[0])\n",
        "    ans = []\n",
        "    for i in range(n):\n",
        "        temp = []\n",
        "        for j in range(m):\n",
        "            temp.append(0);\n",
        "        ans.append(temp)\n",
        "\n",
        "    for i in range(n):\n",
        "        for j in range(m):\n",
        "            for l in range(k):\n",
        "                ans[i][j] += matrix1[i][l] * matrix2[l][j]\n",
        "    return ans\n",
        "\n",
        "# By custom Function\n",
        "matrix1 = np.random.randint(1,10,(20,30))\n",
        "matrix2 = np.random.randint(1,10,(30,40))\n",
        "start_time_1 = time.time()\n",
        "ans = matrix_multiplication(matrix1,matrix2)\n",
        "end_time_1 = time.time()\n",
        "time_taken_1 = end_time_1-start_time_1\n",
        "print(time_taken_1)\n",
        "\n",
        "# By numpy library\n",
        "matrix1 = np.array(matrix1)\n",
        "matrix2 = np.array(matrix2)\n",
        "start_time_2 = time.time()\n",
        "ans = np.matmul(matrix1,matrix2)\n",
        "end_time_2 = time.time()\n",
        "time_taken_2 = end_time_2-start_time_2\n",
        "print(time_taken_2)\n",
        "\n",
        "if (time_taken_1 > time_taken_2):\n",
        "    print(\"Numpy is faster\")\n",
        "else:\n",
        "    print(\"List of lists is faster\")"
      ],
      "metadata": {
        "colab": {
          "base_uri": "https://localhost:8080/"
        },
        "id": "G9qXLs1WMO9-",
        "outputId": "5dde1836-9f04-46ee-a137-6d3701a53b2d"
      },
      "execution_count": 66,
      "outputs": [
        {
          "output_type": "stream",
          "name": "stdout",
          "text": [
            "0.014147281646728516\n",
            "9.703636169433594e-05\n",
            "Numpy is faster\n"
          ]
        }
      ]
    },
    {
      "cell_type": "markdown",
      "metadata": {
        "id": "U7fjFXHgIt8G"
      },
      "source": [
        "### QUE 3 Finding the highest element in a list requires one pass of the array. Finding the second highest element requires 2 passes of the the array. Using this method, what is the time complexity of finding the median of the array? Can you suggest a better method? Can you implement both these methods in Python and compare against numpy.median routine in terms of time?"
      ]
    },
    {
      "cell_type": "markdown",
      "source": [
        "Time complexity of the method defined is O(N) + O(N-1) + ....(N/2) which is equal to O(((N)*(N+1))/4) which is O(N^2)."
      ],
      "metadata": {
        "id": "f_amX98GUZXQ"
      }
    },
    {
      "cell_type": "code",
      "execution_count": 67,
      "metadata": {
        "colab": {
          "base_uri": "https://localhost:8080/"
        },
        "id": "TD9RhN5OIt8G",
        "outputId": "eaecdc7f-358f-46c9-af91-7a24facbc1f8"
      },
      "outputs": [
        {
          "output_type": "stream",
          "name": "stdout",
          "text": [
            "48.0\n",
            "0.03414750099182129\n"
          ]
        }
      ],
      "source": [
        "# Brute force way to find median\n",
        "import time\n",
        "import numpy as np\n",
        "\n",
        "arr = list(np.random.randint(1, 101, size=1000))\n",
        "n = len(arr)\n",
        "start_time_1 = time.time()\n",
        "for i in range((n-1)//2):\n",
        "    min_index = 0\n",
        "    for j in range(1, len(arr)):\n",
        "        if arr[j] < arr[min_index]:\n",
        "            min_index = j\n",
        "    arr.pop(min_index)\n",
        "if (n%2==0):\n",
        "    min_index = 0\n",
        "    median = 0\n",
        "    for j in range(1, len(arr)):\n",
        "        if arr[j] < arr[min_index]:\n",
        "            min_index = j\n",
        "    median += arr[min_index]\n",
        "    arr.pop(min_index)\n",
        "    min_index = 0\n",
        "    for j in range(1, len(arr)):\n",
        "        if arr[j] < arr[min_index]:\n",
        "            min_index = j\n",
        "    median += arr[min_index]\n",
        "    median /= 2\n",
        "else:\n",
        "    min_index = 0\n",
        "    for j in range(1, len(arr)):\n",
        "        if arr[j] < arr[min_index]:\n",
        "            min_index = j\n",
        "    median = arr[min_index]\n",
        "end_time_1 = time.time()\n",
        "print(median)\n",
        "time_taken_1 = end_time_1-start_time_1\n",
        "print(time_taken_1)"
      ]
    },
    {
      "cell_type": "markdown",
      "metadata": {
        "id": "9LZSZkBxIt8G"
      },
      "source": [
        "Better method- We can sort the list and then find the median easily. TC- O(NlogN)"
      ]
    },
    {
      "cell_type": "code",
      "execution_count": 68,
      "metadata": {
        "colab": {
          "base_uri": "https://localhost:8080/"
        },
        "id": "MQ4eiPTdIt8H",
        "outputId": "e41a794f-3554-4720-d6db-d521e77cbb84"
      },
      "outputs": [
        {
          "output_type": "stream",
          "name": "stdout",
          "text": [
            "75.0\n",
            "0.0002951622009277344\n"
          ]
        }
      ],
      "source": [
        "# Optimal way of finding median\n",
        "import time\n",
        "start_time_2 = time.time()\n",
        "arr.sort()\n",
        "if len(arr)%2==0:\n",
        "    median=(arr[(len(arr)//2)-1]+arr[(len(arr))//2])/2\n",
        "else:\n",
        "    median=(arr[(len(arr)-1)//2])\n",
        "end_time_2 = time.time()\n",
        "print(median)\n",
        "time_taken_2 = end_time_2-start_time_2\n",
        "print(time_taken_2)"
      ]
    },
    {
      "cell_type": "markdown",
      "metadata": {
        "id": "yH47axS7It8H"
      },
      "source": [
        "numpy.median is more optimized and takes less time than this method."
      ]
    },
    {
      "cell_type": "code",
      "source": [
        "# Median using Numpy\n",
        "import time\n",
        "import numpy as np\n",
        "arr = np.array(arr)\n",
        "start_time_3 = time.time()\n",
        "median = np.median(arr)\n",
        "end_time_3 = time.time()\n",
        "print(median)\n",
        "time_taken_3 = end_time_3-start_time_3\n",
        "print(time_taken_3)"
      ],
      "metadata": {
        "colab": {
          "base_uri": "https://localhost:8080/"
        },
        "id": "CNCizedGw6il",
        "outputId": "d0216a12-00d7-4fe6-f37a-f0c0743cb524"
      },
      "execution_count": 69,
      "outputs": [
        {
          "output_type": "stream",
          "name": "stdout",
          "text": [
            "75.0\n",
            "0.0002512931823730469\n"
          ]
        }
      ]
    },
    {
      "cell_type": "markdown",
      "metadata": {
        "id": "0PwJDUQgIt8H"
      },
      "source": [
        "### QUE 4 What is the gradient of the following function with respect to x and y?\n",
        "(x^2)*y+(y^3)*sinx"
      ]
    },
    {
      "cell_type": "markdown",
      "metadata": {
        "id": "1Gt-PAalIt8H"
      },
      "source": [
        "We will use Partial Differentiation to find out this.\n",
        "∇f=(2xy+(y^3)*cos(x),2*x+(3y^2)*sin(x))"
      ]
    },
    {
      "cell_type": "markdown",
      "source": [
        "### QUE 5 Use JAX to confirm the gradient evaluated by your method matches the analytical solution corresponding to a few random values of x and y?"
      ],
      "metadata": {
        "id": "NqitY75Y2vkh"
      }
    },
    {
      "cell_type": "code",
      "source": [],
      "metadata": {
        "id": "j5lIaAnm27LM"
      },
      "execution_count": 69,
      "outputs": []
    },
    {
      "cell_type": "markdown",
      "source": [
        "### QUE 6 Use sympy to confirm that you obtain the same gradient analytically."
      ],
      "metadata": {
        "id": "aW_tJLTx27bq"
      }
    },
    {
      "cell_type": "code",
      "source": [
        "import sympy as sp\n",
        "\n",
        "# Define symbols\n",
        "x, y = sp.symbols('x y')\n",
        "f = x**2 * y + y**3 * sp.sin(x)\n",
        "\n",
        "# Compute gradient\n",
        "grad_f = [sp.diff(f, x), sp.diff(f, y)]\n",
        "print(\"SymPy Gradient:\", grad_f)"
      ],
      "metadata": {
        "colab": {
          "base_uri": "https://localhost:8080/"
        },
        "id": "x2SfOp8z2uRR",
        "outputId": "69854b6c-5f5c-4525-bfc0-e122448e7b21"
      },
      "execution_count": 70,
      "outputs": [
        {
          "output_type": "stream",
          "name": "stdout",
          "text": [
            "SymPy Gradient: [2*x*y + y**3*cos(x), x**2 + 3*y**2*sin(x)]\n"
          ]
        }
      ]
    },
    {
      "cell_type": "markdown",
      "metadata": {
        "id": "8A75ZS5ZIt8I"
      },
      "source": [
        "### QUE 7 Create a Python nested dictionary to represent hierarchical information. We want to store record of students and their marks. Something like:\n",
        "\n",
        "2022\n",
        "Branch 1\n",
        "Roll Number: 1, Name: N, Marks:\n",
        "Maths: 100, English: 70 …\n",
        "Branch 2\n",
        "2023\n",
        "Branch 1\n",
        "Branch 2\n",
        "2024\n",
        "Branch 1\n",
        "Branch 2\n",
        "2025\n",
        "Branch 1\n",
        "Branch 2"
      ]
    },
    {
      "cell_type": "code",
      "execution_count": 71,
      "metadata": {
        "colab": {
          "base_uri": "https://localhost:8080/"
        },
        "id": "IrOdTXKiIt8I",
        "outputId": "4fdb7863-9cbf-4404-86a1-39a524dae79f"
      },
      "outputs": [
        {
          "output_type": "stream",
          "name": "stdout",
          "text": [
            "{2022: {'Branch 1': {'Roll Number': 1, 'Name': 'N', 'Marks': {'Maths': 100, 'English': 70}}, 'Branch 2': 'NULL'}, 2023: {'Branch 1': 'NULL', 'Branch 2': 'NULL'}, 2024: {'Branch 1': 'NULL', 'Branch 2': 'NULL'}, 2025: {'Branch 1': 'NULL', 'Branch 2': 'NULL'}}\n"
          ]
        }
      ],
      "source": [
        "dic={2022:{'Branch 1':{'Roll Number':1,'Name':'N','Marks':{'Maths':100,'English':70}},'Branch 2':'NULL'},2023:{'Branch 1':'NULL','Branch 2':'NULL'},2024:{'Branch 1':'NULL','Branch 2':'NULL'},2025:{'Branch 1':'NULL','Branch 2':'NULL'}}\n",
        "print(dic)"
      ]
    },
    {
      "cell_type": "markdown",
      "metadata": {
        "id": "4Y8XgXbMIt8I"
      },
      "source": [
        "### QUE 8 Store the same information using Python classes. We have an overall database which is a list of year objects. Each year contains a list of branches. Each branch contains a list of students. Each student has some properties like name, roll number and has marks in some subjects."
      ]
    },
    {
      "cell_type": "code",
      "execution_count": 72,
      "metadata": {
        "colab": {
          "base_uri": "https://localhost:8080/"
        },
        "id": "8OGUdlSVIt8I",
        "outputId": "db927c47-3945-49de-a69a-156ea345e7da"
      },
      "outputs": [
        {
          "output_type": "stream",
          "name": "stdout",
          "text": [
            "2022\n",
            "  Branch 1\n",
            "    Roll Number: 1, Name: N, Marks:\n",
            "Maths: 100, English: 70\n",
            "  Branch 2\n",
            "2023\n",
            "  Branch 1\n",
            "  Branch 2\n",
            "2024\n",
            "  Branch 1\n",
            "  Branch 2\n",
            "2025\n",
            "  Branch 1\n",
            "  Branch 2\n"
          ]
        }
      ],
      "source": [
        "class Marks:\n",
        "    def __init__(self, maths, english):\n",
        "        self.maths = maths\n",
        "        self.english = english\n",
        "\n",
        "    def __str__(self):\n",
        "        return f\"Maths: {self.maths}, English: {self.english}\"\n",
        "\n",
        "class Student:\n",
        "    def __init__(self, roll_number, name, marks):\n",
        "        self.roll_number = roll_number\n",
        "        self.name = name\n",
        "        self.marks = marks\n",
        "\n",
        "    def __str__(self):\n",
        "        return f\"Roll Number: {self.roll_number}, Name: {self.name}, Marks: [{self.marks}]\"\n",
        "\n",
        "class Branch:\n",
        "    def __init__(self, name):\n",
        "        self.name = name\n",
        "        self.students = []\n",
        "\n",
        "    def add_student(self, student):\n",
        "        self.students.append(student)\n",
        "\n",
        "    def __str__(self):\n",
        "        student_strs = \"\\n    \".join(str(s) for s in self.students)\n",
        "        return f\"Branch: {self.name}\\n    Students:\\n    {student_strs}\"\n",
        "\n",
        "class Year:\n",
        "    def __init__(self, year):\n",
        "        self.year = year\n",
        "        self.branches = []\n",
        "\n",
        "    def add_branch(self, branch):\n",
        "        self.branches.append(branch)\n",
        "\n",
        "    def __str__(self):\n",
        "        branch_strs = \"\\n  \".join(str(b) for b in self.branches)\n",
        "        return f\"Year: {self.year}\\n  Branches:\\n  {branch_strs}\"\n",
        "\n",
        "class Database:\n",
        "    def __init__(self):\n",
        "        self.years = []\n",
        "\n",
        "    def add_year(self, year):\n",
        "        self.years.append(year)\n",
        "\n",
        "    def __str__(self):\n",
        "        year_strs = \"\\n\".join(str(y) for y in self.years)\n",
        "        return f\"Database:\\n{year_strs}\"\n",
        "\n",
        "class Marks:\n",
        "    def __init__(self, maths, english):\n",
        "        self.maths = maths\n",
        "        self.english = english\n",
        "\n",
        "    def __str__(self):\n",
        "        return f\"Maths: {self.maths}, English: {self.english}\"\n",
        "\n",
        "class Student:\n",
        "    def __init__(self, roll_number, name, marks):\n",
        "        self.roll_number = roll_number\n",
        "        self.name = name\n",
        "        self.marks = marks\n",
        "\n",
        "    def __str__(self):\n",
        "        return f\"Roll Number: {self.roll_number}, Name: {self.name}, Marks:\\n{self.marks}\"\n",
        "\n",
        "class Branch:\n",
        "    def __init__(self, name):\n",
        "        self.name = name\n",
        "        self.students = []\n",
        "\n",
        "    def add_student(self, student):\n",
        "        self.students.append(student)\n",
        "\n",
        "    def __str__(self):\n",
        "        if not self.students:\n",
        "            return f\"  {self.name}\"\n",
        "        student_strs = \"\\n    \".join(str(s) for s in self.students)\n",
        "        return f\"  {self.name}\\n    {student_strs}\"\n",
        "\n",
        "class Year:\n",
        "    def __init__(self, year):\n",
        "        self.year = year\n",
        "        self.branches = []\n",
        "\n",
        "    def add_branch(self, branch):\n",
        "        self.branches.append(branch)\n",
        "\n",
        "    def __str__(self):\n",
        "        branch_strs = \"\\n\".join(str(branch) for branch in self.branches)\n",
        "        return f\"{self.year}\\n{branch_strs}\"\n",
        "\n",
        "class Database:\n",
        "    def __init__(self):\n",
        "        self.years = []\n",
        "\n",
        "    def add_year(self, year):\n",
        "        self.years.append(year)\n",
        "\n",
        "    def __str__(self):\n",
        "        return \"\\n\".join(str(year) for year in self.years)\n",
        "\n",
        "db = Database()\n",
        "\n",
        "# Year 2022\n",
        "year_2022 = Year(2022)\n",
        "branch_1_2022 = Branch(\"Branch 1\")\n",
        "branch_2_2022 = Branch(\"Branch 2\")\n",
        "\n",
        "student_1 = Student(1, \"N\", Marks(100, 70))\n",
        "branch_1_2022.add_student(student_1)\n",
        "\n",
        "year_2022.add_branch(branch_1_2022)\n",
        "year_2022.add_branch(branch_2_2022)\n",
        "db.add_year(year_2022)\n",
        "\n",
        "# Year 2023\n",
        "year_2023 = Year(2023)\n",
        "branch_1_2023 = Branch(\"Branch 1\")\n",
        "branch_2_2023 = Branch(\"Branch 2\")\n",
        "year_2023.add_branch(branch_1_2023)\n",
        "year_2023.add_branch(branch_2_2023)\n",
        "db.add_year(year_2023)\n",
        "\n",
        "# Year 2024\n",
        "year_2024 = Year(2024)\n",
        "branch_1_2024 = Branch(\"Branch 1\")\n",
        "branch_2_2024 = Branch(\"Branch 2\")\n",
        "year_2024.add_branch(branch_1_2024)\n",
        "year_2024.add_branch(branch_2_2024)\n",
        "db.add_year(year_2024)\n",
        "\n",
        "# Year 2025\n",
        "year_2025 = Year(2025)\n",
        "branch_1_2025 = Branch(\"Branch 1\")\n",
        "branch_2_2025 = Branch(\"Branch 2\")\n",
        "year_2025.add_branch(branch_1_2025)\n",
        "year_2025.add_branch(branch_2_2025)\n",
        "db.add_year(year_2025)\n",
        "\n",
        "print(db)"
      ]
    },
    {
      "cell_type": "markdown",
      "metadata": {
        "id": "jih3AUW2It8I"
      },
      "source": [
        "### QUE 9 Using matplotlib plot the following functions on the domain: x = 0.5 to 100.0 in steps of 0.5."
      ]
    },
    {
      "cell_type": "code",
      "execution_count": 73,
      "metadata": {
        "colab": {
          "base_uri": "https://localhost:8080/",
          "height": 718
        },
        "id": "Kr1px8yBIt8J",
        "outputId": "7ac3b459-1c0c-47bb-bae0-c45131e435bb"
      },
      "outputs": [
        {
          "output_type": "display_data",
          "data": {
            "text/plain": [
              "<Figure size 1400x800 with 1 Axes>"
            ],
            "image/png": "[encoded data removed]"
          },
          "metadata": {}
        }
      ],
      "source": [
        "import matplotlib.pyplot as plt\n",
        "import numpy as np\n",
        "\n",
        "x = np.arange(0.5, 100.5, 0.5)\n",
        "\n",
        "y1 = x\n",
        "y2 = x**2\n",
        "y3 = (x**3) / 100\n",
        "y4 = np.sin(x)\n",
        "y5 = np.sin(x) / x\n",
        "y6 = np.log(x)\n",
        "y7 = np.exp(x)\n",
        "\n",
        "# Plot\n",
        "plt.figure(figsize=(14, 8))\n",
        "\n",
        "plt.plot(x, y1, label=\"y = x\")\n",
        "plt.plot(x, y2, label=\"y = x^2\")\n",
        "plt.plot(x, y3, label=\"y = x^3 / 100\")\n",
        "plt.plot(x, y4, label=\"y = sin(x)\")\n",
        "plt.plot(x, y5, label=\"y = sin(x) / x\")\n",
        "plt.plot(x, y6, label=\"y = log(x)\")\n",
        "plt.plot(x, y7, label=\"y = e^x\")\n",
        "\n",
        "plt.title(\"Plot of Various Functions\")\n",
        "plt.xlabel(\"x\")\n",
        "plt.ylabel(\"y\")\n",
        "plt.ylim(-10, 10000)\n",
        "plt.yscale('symlog')\n",
        "plt.legend()\n",
        "plt.grid(True)\n",
        "\n",
        "plt.show()\n"
      ]
    },
    {
      "cell_type": "markdown",
      "metadata": {
        "id": "48Q2rzO5It8J"
      },
      "source": [
        "### QUE 10 Using numpy generate a matrix of size 20X5 containing random numbers drawn uniformly from the range of 1 to 2. Using Pandas create a dataframe out of this matrix. Name the columns of the dataframe as “a”, “b”, “c”, “d”, “e”. Find the column with the highest standard deviation. Find the row with the lowest mean."
      ]
    },
    {
      "cell_type": "code",
      "execution_count": 74,
      "metadata": {
        "colab": {
          "base_uri": "https://localhost:8080/"
        },
        "id": "yctXu51dIt8J",
        "outputId": "720df750-3aaa-45d0-c7a8-8cbc0f120c10"
      },
      "outputs": [
        {
          "output_type": "stream",
          "name": "stdout",
          "text": [
            "DataFrame:\n",
            "            a         b         c         d         e\n",
            "0   1.429183  1.267777  1.789161  1.573349  1.658825\n",
            "1   1.252307  1.220225  1.488375  1.737566  1.525240\n",
            "2   1.032646  1.868552  1.064687  1.955824  1.025142\n",
            "3   1.694450  1.082207  1.910677  1.464433  1.137524\n",
            "4   1.340816  1.164825  1.170582  1.948108  1.445246\n",
            "5   1.788802  1.639606  1.676426  1.131693  1.234184\n",
            "6   1.786750  1.970766  1.262676  1.271569  1.472897\n",
            "7   1.983840  1.268959  1.406972  1.891480  1.002921\n",
            "8   1.039766  1.604072  1.907380  1.238857  1.469642\n",
            "9   1.450465  1.472971  1.622520  1.469744  1.447468\n",
            "10  1.474288  1.590867  1.537007  1.854136  1.049497\n",
            "11  1.833317  1.843925  1.284908  1.462852  1.438538\n",
            "12  1.218510  1.396797  1.044388  1.277822  1.816682\n",
            "13  1.284562  1.818207  1.531599  1.879863  1.574780\n",
            "14  1.029668  1.675420  1.044854  1.450597  1.929427\n",
            "15  1.165204  1.389872  1.729860  1.882259  1.670943\n",
            "16  1.258173  1.674608  1.296728  1.718429  1.954033\n",
            "17  1.721393  1.862881  1.002104  1.717572  1.829588\n",
            "18  1.040559  1.871598  1.256694  1.665292  1.800355\n",
            "19  1.662665  1.092285  1.596322  1.549584  1.900321\n",
            "\n",
            "Column with the highest standard deviation: e\n",
            "Highest standard deviation value: 0.3071121736490656\n",
            "\n",
            "Row with the lowest mean: 12\n",
            "Lowest mean value: 1.3508397403687507\n"
          ]
        }
      ],
      "source": [
        "import numpy as np\n",
        "import pandas as pd\n",
        "\n",
        "matrix = np.random.uniform(1, 2, size=(20, 5))\n",
        "\n",
        "df = pd.DataFrame(matrix, columns=['a', 'b', 'c', 'd', 'e'])\n",
        "\n",
        "column_with_highest_std = df.std().idxmax()\n",
        "highest_std_value = df.std().max()\n",
        "\n",
        "row_with_lowest_mean = df.mean(axis=1).idxmin()\n",
        "lowest_mean_value = df.mean(axis=1).min()\n",
        "\n",
        "# Print results\n",
        "print(\"DataFrame:\\n\", df)\n",
        "print(\"\\nColumn with the highest standard deviation:\", column_with_highest_std)\n",
        "print(\"Highest standard deviation value:\", highest_std_value)\n",
        "print(\"\\nRow with the lowest mean:\", row_with_lowest_mean)\n",
        "print(\"Lowest mean value:\", lowest_mean_value)\n"
      ]
    },
    {
      "cell_type": "markdown",
      "metadata": {
        "id": "2I_8EI9UIt8J"
      },
      "source": [
        "### QUE 11 Add a new column to the dataframe called “f” which is the sum of the columns “a”, “b”, “c”, “d”, “e”. Create another column called “g”. The value in the column “g” should be “LT8” if the value in the column “f” is less than 8 and “GT8” otherwise. Find the number of rows in the dataframe where the value in the column “g” is “LT8”. Find the standard deviation of the column “f” for the rows where the value in the column “g” is “LT8” and “GT8” respectively."
      ]
    },
    {
      "cell_type": "code",
      "execution_count": 75,
      "metadata": {
        "colab": {
          "base_uri": "https://localhost:8080/"
        },
        "id": "6eRCntviIt8J",
        "outputId": "95e49cad-d42a-4f90-f2c8-b608a45ccf7d"
      },
      "outputs": [
        {
          "output_type": "stream",
          "name": "stdout",
          "text": [
            "DataFrame:\n",
            "            a         b         c         d         e         f    g\n",
            "0   1.404240  1.321081  1.749851  1.412675  1.646096  7.533943  LT8\n",
            "1   1.646450  1.888039  1.598692  1.502154  1.138871  7.774206  LT8\n",
            "2   1.115738  1.154322  1.171848  1.637877  1.740981  6.820766  LT8\n",
            "3   1.529992  1.829018  1.991263  1.820013  1.694882  8.865167  GT8\n",
            "4   1.532493  1.448853  1.084392  1.399369  1.910135  7.375242  LT8\n",
            "5   1.808023  1.216051  1.466608  1.816723  1.067385  7.374790  LT8\n",
            "6   1.387393  1.851841  1.403898  1.077615  1.542534  7.263281  LT8\n",
            "7   1.861742  1.590286  1.226279  1.384240  1.450123  7.512670  LT8\n",
            "8   1.579266  1.759351  1.098874  1.889652  1.012310  7.339453  LT8\n",
            "9   1.370052  1.027420  1.392974  1.525813  1.511681  6.827941  LT8\n",
            "10  1.165628  1.645741  1.044778  1.761907  1.946644  7.564699  LT8\n",
            "11  1.339769  1.517239  1.378910  1.006710  1.385875  6.628503  LT8\n",
            "12  1.791720  1.595989  1.101260  1.847139  1.531085  7.867194  LT8\n",
            "13  1.841723  1.580222  1.559688  1.105259  1.167360  7.254252  LT8\n",
            "14  1.972025  1.228487  1.977452  1.531913  1.135789  7.845666  LT8\n",
            "15  1.099302  1.208864  1.925637  1.414150  1.395434  7.043388  LT8\n",
            "16  1.313206  1.147062  1.487851  1.130048  1.835480  6.913647  LT8\n",
            "17  1.370397  1.374804  1.474006  1.444128  1.994858  7.658193  LT8\n",
            "18  1.545381  1.088202  1.606877  1.151584  1.030938  6.422982  LT8\n",
            "19  1.970742  1.773539  1.980109  1.477878  1.532258  8.734526  GT8\n",
            "\n",
            "Number of rows where 'g' is 'LT8': 18\n",
            "Standard deviation of 'f' where 'g' is 'LT8': 0.42277883302571556\n",
            "Standard deviation of 'f' where 'g' is 'GT8': 0.09237746807125832\n"
          ]
        }
      ],
      "source": [
        "import numpy as np\n",
        "import pandas as pd\n",
        "\n",
        "matrix = np.random.uniform(1, 2, size=(20, 5))\n",
        "\n",
        "df = pd.DataFrame(matrix, columns=['a', 'b', 'c', 'd', 'e'])\n",
        "\n",
        "df['f'] = df[['a', 'b', 'c', 'd', 'e']].sum(axis=1)\n",
        "\n",
        "df['g'] = np.where(df['f'] < 8, 'LT8', 'GT8')\n",
        "\n",
        "num_rows_lt8 = df[df['g'] == 'LT8'].shape[0]\n",
        "\n",
        "std_f_lt8 = df[df['g'] == 'LT8']['f'].std()\n",
        "std_f_gt8 = df[df['g'] == 'GT8']['f'].std()\n",
        "\n",
        "print(\"DataFrame:\\n\", df)\n",
        "print(\"\\nNumber of rows where 'g' is 'LT8':\", num_rows_lt8)\n",
        "print(\"Standard deviation of 'f' where 'g' is 'LT8':\", std_f_lt8)\n",
        "print(\"Standard deviation of 'f' where 'g' is 'GT8':\", std_f_gt8)\n"
      ]
    },
    {
      "cell_type": "markdown",
      "metadata": {
        "id": "4ETcP7s7It8J"
      },
      "source": [
        "### QUE 13 Write a function to compute the argmin of a numpy array. The function should take a numpy array as input and return the index of the minimum element. You can use the np.argmin function to verify your solution."
      ]
    },
    {
      "cell_type": "code",
      "execution_count": 76,
      "metadata": {
        "colab": {
          "base_uri": "https://localhost:8080/"
        },
        "id": "r_R38cb1It8J",
        "outputId": "dc2be14c-1432-4efa-d13d-c0af6a60c8cb"
      },
      "outputs": [
        {
          "output_type": "stream",
          "name": "stdout",
          "text": [
            "Custom argmin: 0\n",
            "Numpy argmin: 0\n",
            "Verification: True\n"
          ]
        }
      ],
      "source": [
        "import numpy as np\n",
        "\n",
        "def compute_argmin(arr):\n",
        "    min_index = 0\n",
        "    min_value = arr[0]\n",
        "\n",
        "    for i in range(1, len(arr)):\n",
        "        if arr[i] < min_value:\n",
        "            min_value = arr[i]\n",
        "            min_index = i\n",
        "\n",
        "    return min_index\n",
        "\n",
        "arr = np.random.rand(10)\n",
        "\n",
        "argmin_custom = compute_argmin(arr)\n",
        "print(\"Custom argmin:\", argmin_custom)\n",
        "\n",
        "argmin_np = np.argmin(arr)\n",
        "print(\"Numpy argmin:\", argmin_np)\n",
        "\n",
        "print(\"Verification:\", argmin_custom == argmin_np)\n"
      ]
    }
  ],
  "metadata": {
    "language_info": {
      "name": "python"
    },
    "colab": {
      "provenance": []
    },
    "kernelspec": {
      "name": "python3",
      "display_name": "Python 3"
    }
  },
  "nbformat": 4,
  "nbformat_minor": 0
}