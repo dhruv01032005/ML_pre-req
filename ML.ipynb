{
 "cells": [
  {
   "cell_type": "markdown",
   "metadata": {},
   "source": [
    "QUE 1 How many multiplications and additions do you need to perform a matrix multiplication between a (n, k) and (k, m) matrix? Explain."
   ]
  },
  {
   "cell_type": "markdown",
   "metadata": {},
   "source": [
    "In matrix multiplication multiplication happens n*k*m times and addition happens n*(k-1)*m times."
   ]
  },
  {
   "cell_type": "markdown",
   "metadata": {},
   "source": [
    "QUE 2 Write Python code to multiply the above two matrices. Solve using list of lists and then use numpy. Compare the timing of both solutions. Which one is faster? Why?"
   ]
  },
  {
   "cell_type": "code",
   "execution_count": null,
   "metadata": {},
   "outputs": [],
   "source": [
    "# To input the matrixes\n",
    "# This for loop is for exiting at invalid input\n",
    "for j in range(1):\n",
    "    # for first matrix\n",
    "    x=list(map(int,input().split()))\n",
    "    if len(x)!=2:\n",
    "        print(\"Invalid\")\n",
    "        break\n",
    "    elif x[0]<1 or x[1]<1:\n",
    "        print(\"Invalid\")\n",
    "        break\n",
    "    m=x[0]\n",
    "    n=x[1]\n",
    "    m1=[]\n",
    "    for i in range(m):\n",
    "        l1=list(map(int,input().split( )))\n",
    "        if len(l1)==n:\n",
    "            m1.append(l1)\n",
    "        else:\n",
    "            print(\"Invalid\")\n",
    "            break\n",
    "    # for second matrix\n",
    "    y=list(map(int,input().split()))\n",
    "    if len(y)!=2:\n",
    "        print(\"Invalid\")\n",
    "        break\n",
    "    elif y[0]<1 or y[1]<1:\n",
    "        print(\"Invalid\")\n",
    "        break\n",
    "    k=y[0]\n",
    "    p=y[1]\n",
    "    m2=[]\n",
    "    for i in range(k):\n",
    "        l2=list(map(int,input().split( )))\n",
    "        if len(l2)==p:\n",
    "            m2.append(l2)\n",
    "        else:\n",
    "            print(\"Invalid\")\n",
    "            break\n",
    "    if n==k:\n",
    "        # here the multiplication starts\n",
    "        result=[]\n",
    "        d=0\n",
    "        for i in range(m):\n",
    "            temp=[]\n",
    "            for j in range(p):\n",
    "                c=0\n",
    "                for g in range(n):\n",
    "                    c=c+m1[i][g]*m2[g][j]\n",
    "                temp.append(c)\n",
    "                if i==j:\n",
    "                    d=d+c\n",
    "                else:\n",
    "                    pass\n",
    "            result.append(temp)\n",
    "    else:\n",
    "        print(\"Invalid\")\n",
    "        break\n",
    "    m3=[]\n",
    "    for k in result:\n",
    "        temp_2=[]\n",
    "        for j in k:\n",
    "            a=j*d\n",
    "            temp_2.append(a)\n",
    "        m3.append(temp_2)\n",
    "    # result\n",
    "    print(m3)"
   ]
  },
  {
   "cell_type": "markdown",
   "metadata": {},
   "source": [
    "QUE 3 Finding the highest element in a list requires one pass of the array. Finding the second highest element requires 2 passes of the the array. Using this method, what is the time complexity of finding the median of the array? Can you suggest a better method? Can you implement both these methods in Python and compare against numpy.median routine in terms of time?"
   ]
  },
  {
   "cell_type": "markdown",
   "metadata": {},
   "source": [
    "Time complexity of the method defined is O(N) + O(N-1) + ...... which is equal to O(((N)*(N+1))/2) which is O(N^2).\n",
    "\n",
    "Better method- We can sort the list and then find the median easily. TC- O(NlogN)"
   ]
  },
  {
   "cell_type": "code",
   "execution_count": null,
   "metadata": {},
   "outputs": [],
   "source": [
    "arr=list(map(int,input().split( )))\n",
    "n = len(arr)\n",
    "for i in range(n // 2 + 1):\n",
    "    min_index = 0\n",
    "    for j in range(1, len(arr)):\n",
    "        if arr[j] < arr[min_index]:\n",
    "            min_index = j\n",
    "    arr.pop(min_index)\n",
    "print(arr[min_index])"
   ]
  },
  {
   "cell_type": "code",
   "execution_count": null,
   "metadata": {},
   "outputs": [],
   "source": [
    "l1=list(map(int,input().split( )))\n",
    "l1.sort()\n",
    "if len(l1)%2==0:\n",
    "    median=(l1[(len(l1)/2)-1]+l1[(len(l1))/2])/2\n",
    "else:\n",
    "    median=(l1[(len(l1)-1)/2])\n",
    "print(median)"
   ]
  },
  {
   "cell_type": "markdown",
   "metadata": {},
   "source": [
    "numpy.median is more optimized and takes less time than this method."
   ]
  },
  {
   "cell_type": "markdown",
   "metadata": {},
   "source": [
    "QUE 4 What is the gradient of the following function with respect to x and y?\n",
    "(x^2)*y+(y^3)*sinx"
   ]
  },
  {
   "cell_type": "markdown",
   "metadata": {},
   "source": [
    "We will use Partial Differentiation to find out this.\n",
    "∇f=(2xy+(y^3)*cos(x),2*x+(3y^2)*sin(x))"
   ]
  },
  {
   "cell_type": "markdown",
   "metadata": {},
   "source": [
    "QUE 7 Create a Python nested dictionary to represent hierarchical information. We want to store record of students and their marks. Something like:\n",
    "\n",
    "2022\n",
    "Branch 1\n",
    "Roll Number: 1, Name: N, Marks:\n",
    "Maths: 100, English: 70 …\n",
    "Branch 2\n",
    "2023\n",
    "Branch 1\n",
    "Branch 2\n",
    "2024\n",
    "Branch 1\n",
    "Branch 2\n",
    "2025\n",
    "Branch 1\n",
    "Branch 2"
   ]
  },
  {
   "cell_type": "code",
   "execution_count": null,
   "metadata": {},
   "outputs": [],
   "source": [
    "dic={2022:{'Branch 1':{'Roll Number':1,'Name':'N','Marks':{'Maths':100,'English':70}},'Branch 2':'NULL'},2023:{'Branch 1':'NULL','Branch 2':'NULL'},2024:{'Branch 1':'NULL','Branch 2':'NULL'},2025:{'Branch 1':'NULL','Branch 2':'NULL'}}\n",
    "print(dic)"
   ]
  },
  {
   "cell_type": "markdown",
   "metadata": {},
   "source": [
    "QUE 8 Store the same information using Python classes. We have an overall database which is a list of year objects. Each year contains a list of branches. Each branch contains a list of students. Each student has some properties like name, roll number and has marks in some subjects."
   ]
  },
  {
   "cell_type": "code",
   "execution_count": null,
   "metadata": {},
   "outputs": [],
   "source": [
    "class Marks:\n",
    "    def __init__(self, maths, english, science):\n",
    "        self.maths = maths\n",
    "        self.english = english\n",
    "        self.science = science\n",
    "\n",
    "    def __str__(self):\n",
    "        return f\"Maths: {self.maths}, English: {self.english}, Science: {self.science}\"\n",
    "\n",
    "class Student:\n",
    "    def __init__(self, roll_number, name, marks):\n",
    "        self.roll_number = roll_number\n",
    "        self.name = name\n",
    "        self.marks = marks\n",
    "\n",
    "    def __str__(self):\n",
    "        return f\"Roll Number: {self.roll_number}, Name: {self.name}, Marks: [{self.marks}]\"\n",
    "\n",
    "class Branch:\n",
    "    def __init__(self, name):\n",
    "        self.name = name\n",
    "        self.students = []\n",
    "\n",
    "    def add_student(self, student):\n",
    "        self.students.append(student)\n",
    "\n",
    "    def __str__(self):\n",
    "        return f\"Branch: {self.name}, Students: {self.students}\"\n",
    "\n",
    "class Year:\n",
    "    def __init__(self, year):\n",
    "        self.year = year\n",
    "        self.branches = []\n",
    "\n",
    "    def add_branch(self, branch):\n",
    "        self.branches.append(branch)\n",
    "\n",
    "    def __str__(self):\n",
    "        return f\"Year: {self.year}, Branches: {self.branches}\"\n",
    "\n",
    "class Database:\n",
    "    def __init__(self):\n",
    "        self.years = []\n",
    "\n",
    "    def add_year(self, year):\n",
    "        self.years.append(year)\n",
    "\n",
    "    def __str__(self):\n",
    "        return f\"Database: {self.years}\"\n",
    "\n",
    "\n",
    "year_2022 = Year(2022)\n",
    "branch_1_2022 = Branch(\"Branch 1\")\n",
    "year_2022.add_branch(branch_1_2022)\n",
    "student_1 = Student(1, \"N\", Marks(100, 70))\n",
    "branch_1_2022.add_student(student_1)\n",
    "database.add_year(year_2022)\n",
    "print(database)"
   ]
  },
  {
   "cell_type": "markdown",
   "metadata": {},
   "source": [
    "QUE 9 Using matplotlib plot the following functions on the domain: x = 0.5 to 100.0 in steps of 0.5."
   ]
  },
  {
   "cell_type": "code",
   "execution_count": null,
   "metadata": {},
   "outputs": [],
   "source": [
    "import matplotlib.pyplot as plt\n",
    "import numpy as np\n",
    "\n",
    "x = np.arange(0.5, 100.5, 0.5)\n",
    "\n",
    "y1 = x\n",
    "y2 = x**2\n",
    "y3 = (x**3) / 100\n",
    "y4 = np.sin(x)\n",
    "y5 = np.sin(x) / x\n",
    "y6 = np.log(x)\n",
    "y7 = np.exp(x)\n",
    "\n",
    "# Create the plot\n",
    "plt.figure(figsize=(14, 8))\n",
    "\n",
    "# Plot each function\n",
    "plt.plot(x, y1, label=\"y = x\")\n",
    "plt.plot(x, y2, label=\"y = x^2\")\n",
    "plt.plot(x, y3, label=\"y = x^3 / 100\")\n",
    "plt.plot(x, y4, label=\"y = sin(x)\")\n",
    "plt.plot(x, y5, label=\"y = sin(x) / x\")\n",
    "plt.plot(x, y6, label=\"y = log(x)\")\n",
    "plt.plot(x, y7, label=\"y = e^x\", linestyle='dotted')  # Exponential growth may quickly become very large\n",
    "\n",
    "# Set plot title and labels\n",
    "plt.title(\"Plot of Various Functions\")\n",
    "plt.xlabel(\"x\")\n",
    "plt.ylabel(\"y\")\n",
    "plt.ylim(-10, 100)  # Adjusting y-axis limits to better visualize functions\n",
    "plt.yscale('symlog')  # Using symlog to handle large ranges of values and show e^x properly\n",
    "plt.legend()\n",
    "plt.grid(True)\n",
    "\n",
    "# Show the plot\n",
    "plt.show()\n"
   ]
  },
  {
   "cell_type": "markdown",
   "metadata": {},
   "source": [
    "QUE 10 Using numpy generate a matrix of size 20X5 containing random numbers drawn uniformly from the range of 1 to 2. Using Pandas create a dataframe out of this matrix. Name the columns of the dataframe as “a”, “b”, “c”, “d”, “e”. Find the column with the highest standard deviation. Find the row with the lowest mean."
   ]
  },
  {
   "cell_type": "code",
   "execution_count": null,
   "metadata": {},
   "outputs": [],
   "source": [
    "import numpy as np\n",
    "import pandas as pd\n",
    "\n",
    "matrix = np.random.uniform(1, 2, size=(20, 5))\n",
    "\n",
    "df = pd.DataFrame(matrix, columns=['a', 'b', 'c', 'd', 'e'])\n",
    "\n",
    "column_with_highest_std = df.std().idxmax()\n",
    "highest_std_value = df.std().max()\n",
    "\n",
    "row_with_lowest_mean = df.mean(axis=1).idxmin()\n",
    "lowest_mean_value = df.mean(axis=1).min()\n",
    "\n",
    "# Print results\n",
    "print(\"DataFrame:\\n\", df)\n",
    "print(\"\\nColumn with the highest standard deviation:\", column_with_highest_std)\n",
    "print(\"Highest standard deviation value:\", highest_std_value)\n",
    "print(\"\\nRow with the lowest mean:\", row_with_lowest_mean)\n",
    "print(\"Lowest mean value:\", lowest_mean_value)\n"
   ]
  },
  {
   "cell_type": "markdown",
   "metadata": {},
   "source": [
    "QUE 11 Add a new column to the dataframe called “f” which is the sum of the columns “a”, “b”, “c”, “d”, “e”. Create another column called “g”. The value in the column “g” should be “LT8” if the value in the column “f” is less than 8 and “GT8” otherwise. Find the number of rows in the dataframe where the value in the column “g” is “LT8”. Find the standard deviation of the column “f” for the rows where the value in the column “g” is “LT8” and “GT8” respectively."
   ]
  },
  {
   "cell_type": "code",
   "execution_count": null,
   "metadata": {},
   "outputs": [],
   "source": [
    "import numpy as np\n",
    "import pandas as pd\n",
    "\n",
    "matrix = np.random.uniform(1, 2, size=(20, 5))\n",
    "\n",
    "df = pd.DataFrame(matrix, columns=['a', 'b', 'c', 'd', 'e'])\n",
    "\n",
    "column_with_highest_std = df.std().idxmax()\n",
    "highest_std_value = df.std().max()\n",
    "\n",
    "row_with_lowest_mean = df.mean(axis=1).idxmin()\n",
    "lowest_mean_value = df.mean(axis=1).min()\n",
    "\n",
    "df['f'] = df[['a', 'b', 'c', 'd', 'e']].sum(axis=1)\n",
    "\n",
    "df['g'] = np.where(df['f'] < 8, 'LT8', 'GT8')\n",
    "\n",
    "num_rows_lt8 = df[df['g'] == 'LT8'].shape[0]\n",
    "\n",
    "std_f_lt8 = df[df['g'] == 'LT8']['f'].std()\n",
    "std_f_gt8 = df[df['g'] == 'GT8']['f'].std()\n",
    "\n",
    "print(\"DataFrame:\\n\", df)\n",
    "print(\"\\nColumn with the highest standard deviation:\", column_with_highest_std)\n",
    "print(\"Highest standard deviation value:\", highest_std_value)\n",
    "print(\"\\nRow with the lowest mean:\", row_with_lowest_mean)\n",
    "print(\"Lowest mean value:\", lowest_mean_value)\n",
    "print(\"\\nNumber of rows where 'g' is 'LT8':\", num_rows_lt8)\n",
    "print(\"Standard deviation of 'f' where 'g' is 'LT8':\", std_f_lt8)\n",
    "print(\"Standard deviation of 'f' where 'g' is 'GT8':\", std_f_gt8)\n"
   ]
  },
  {
   "cell_type": "markdown",
   "metadata": {},
   "source": [
    "QUE 13 Write a function to compute the argmin of a numpy array. The function should take a numpy array as input and return the index of the minimum element. You can use the np.argmin function to verify your solution."
   ]
  },
  {
   "cell_type": "code",
   "execution_count": null,
   "metadata": {},
   "outputs": [],
   "source": [
    "import numpy as np\n",
    "\n",
    "def compute_argmin(arr):\n",
    "    min_index = 0\n",
    "    min_value = arr[0]\n",
    "    \n",
    "    for i in range(1, len(arr)):\n",
    "        if arr[i] < min_value:\n",
    "            min_value = arr[i]\n",
    "            min_index = i\n",
    "            \n",
    "    return min_index\n",
    "\n",
    "arr = np.random.rand(10)  # Random array of 10 elements\n",
    "print(\"Array:\", arr)\n",
    "\n",
    "argmin_custom = compute_argmin(arr)\n",
    "print(\"Custom argmin:\", argmin_custom)\n",
    "\n",
    "argmin_np = np.argmin(arr)\n",
    "print(\"Numpy argmin:\", argmin_np)\n",
    "\n",
    "print(\"Verification:\", argmin_custom == argmin_np)\n"
   ]
  }
 ],
 "metadata": {
  "language_info": {
   "name": "python"
  }
 },
 "nbformat": 4,
 "nbformat_minor": 2
}
